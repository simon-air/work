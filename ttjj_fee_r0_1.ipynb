{
  "nbformat": 4,
  "nbformat_minor": 0,
  "metadata": {
    "colab": {
      "name": "ttjj-fee_r0.1.ipynb",
      "version": "0.3.2",
      "provenance": [],
      "collapsed_sections": [],
      "include_colab_link": true
    },
    "kernelspec": {
      "name": "python3",
      "display_name": "Python 3"
    },
    "accelerator": "GPU"
  },
  "cells": [
    {
      "cell_type": "markdown",
      "metadata": {
        "id": "view-in-github",
        "colab_type": "text"
      },
      "source": [
        "<a href=\"https://colab.research.google.com/github/simon-air/work/blob/master/ttjj_fee_r0_1.ipynb\" target=\"_parent\"><img src=\"https://colab.research.google.com/assets/colab-badge.svg\" alt=\"Open In Colab\"/></a>"
      ]
    },
    {
      "cell_type": "code",
      "metadata": {
        "id": "7dwo79AYYK7z",
        "colab_type": "code",
        "outputId": "122499dc-303a-4ad0-b81e-d61c7e5ab128",
        "colab": {
          "base_uri": "https://localhost:8080/",
          "height": 35
        }
      },
      "source": [
        "from google.colab import drive\n",
        "drive.mount('/content/gdrive', force_remount=True)\n",
        "root_dir = \"/content/gdrive/My Drive/\"\n",
        "#base_dir = root_dir + 'DataSet/zycg20190606/'\n",
        "base_dir = root_dir + '/Quant/'"
      ],
      "execution_count": 0,
      "outputs": [
        {
          "output_type": "stream",
          "text": [
            "Mounted at /content/gdrive\n"
          ],
          "name": "stdout"
        }
      ]
    },
    {
      "cell_type": "code",
      "metadata": {
        "id": "22ZSufOohaNI",
        "colab_type": "code",
        "colab": {}
      },
      "source": [
        "import re\n",
        "import requests\n",
        "import json\n",
        "import pandas as pd\n",
        "import urllib.parse\n",
        "import urllib.request\n",
        "from bs4 import BeautifulSoup\n",
        "import time\n",
        "import random"
      ],
      "execution_count": 0,
      "outputs": []
    },
    {
      "cell_type": "code",
      "metadata": {
        "id": "aovelgzzNiza",
        "colab_type": "code",
        "outputId": "c64c9697-e0b3-4061-fd05-985e406ffd5d",
        "colab": {
          "base_uri": "https://localhost:8080/",
          "height": 202
        }
      },
      "source": [
        "r = requests.get('http://fund.eastmoney.com/js/fundcode_search.js')\n",
        "cont = re.findall('var r = (.*])', r.text)[0]  # 提取list\n",
        "ls = json.loads(cont)  # 将字符串格式的list转化为list格式\n",
        "all_fundCode = pd.DataFrame(ls, columns=['基金代码', '基金名称缩写', '基金名称', '基金类型', '基金名称拼音'])  # list转为DataFrame\n",
        "all_fundCode = all_fundCode.loc[:,['基金代码','基金名称','基金类型']]\n",
        "all_fundCode.head(5)"
      ],
      "execution_count": 0,
      "outputs": [
        {
          "output_type": "execute_result",
          "data": {
            "text/html": [
              "<div>\n",
              "<style scoped>\n",
              "    .dataframe tbody tr th:only-of-type {\n",
              "        vertical-align: middle;\n",
              "    }\n",
              "\n",
              "    .dataframe tbody tr th {\n",
              "        vertical-align: top;\n",
              "    }\n",
              "\n",
              "    .dataframe thead th {\n",
              "        text-align: right;\n",
              "    }\n",
              "</style>\n",
              "<table border=\"1\" class=\"dataframe\">\n",
              "  <thead>\n",
              "    <tr style=\"text-align: right;\">\n",
              "      <th></th>\n",
              "      <th>基金代码</th>\n",
              "      <th>基金名称</th>\n",
              "      <th>基金类型</th>\n",
              "    </tr>\n",
              "  </thead>\n",
              "  <tbody>\n",
              "    <tr>\n",
              "      <th>0</th>\n",
              "      <td>000001</td>\n",
              "      <td>华夏成长</td>\n",
              "      <td>混合型</td>\n",
              "    </tr>\n",
              "    <tr>\n",
              "      <th>1</th>\n",
              "      <td>000002</td>\n",
              "      <td>华夏成长(后端)</td>\n",
              "      <td>混合型</td>\n",
              "    </tr>\n",
              "    <tr>\n",
              "      <th>2</th>\n",
              "      <td>000003</td>\n",
              "      <td>中海可转债债券A</td>\n",
              "      <td>债券型</td>\n",
              "    </tr>\n",
              "    <tr>\n",
              "      <th>3</th>\n",
              "      <td>000004</td>\n",
              "      <td>中海可转债债券C</td>\n",
              "      <td>债券型</td>\n",
              "    </tr>\n",
              "    <tr>\n",
              "      <th>4</th>\n",
              "      <td>000005</td>\n",
              "      <td>嘉实增强信用定期债券</td>\n",
              "      <td>定开债券</td>\n",
              "    </tr>\n",
              "  </tbody>\n",
              "</table>\n",
              "</div>"
            ],
            "text/plain": [
              "     基金代码        基金名称  基金类型\n",
              "0  000001        华夏成长   混合型\n",
              "1  000002    华夏成长(后端)   混合型\n",
              "2  000003    中海可转债债券A   债券型\n",
              "3  000004    中海可转债债券C   债券型\n",
              "4  000005  嘉实增强信用定期债券  定开债券"
            ]
          },
          "metadata": {
            "tags": []
          },
          "execution_count": 3
        }
      ]
    },
    {
      "cell_type": "code",
      "metadata": {
        "id": "wYw9whMpbxFn",
        "colab_type": "code",
        "colab": {}
      },
      "source": [
        "all_fundCode.to_csv('/content/gdrive/My Drive/Quant/all_fundCode.csv', encoding='utf_8_sig',index=False)"
      ],
      "execution_count": 0,
      "outputs": []
    },
    {
      "cell_type": "code",
      "metadata": {
        "id": "DUM_bsWSSweY",
        "colab_type": "code",
        "outputId": "942bf104-2316-4785-8644-f2a36c3245f9",
        "colab": {
          "base_uri": "https://localhost:8080/",
          "height": 35
        }
      },
      "source": [
        "gpzs_fundCode = all_fundCode.loc[all_fundCode['基金类型'].isin(['股票指数','ETF-场内','QDII-ETF','QDII-指数','联接基金','债券指数'])]\n",
        "len(gpzs_fundCode)"
      ],
      "execution_count": 0,
      "outputs": [
        {
          "output_type": "execute_result",
          "data": {
            "text/plain": [
              "1132"
            ]
          },
          "metadata": {
            "tags": []
          },
          "execution_count": 5
        }
      ]
    },
    {
      "cell_type": "code",
      "metadata": {
        "id": "8l8HEoTMbhOE",
        "colab_type": "code",
        "outputId": "5bd53faa-b866-4123-d14d-3909309f5475",
        "colab": {
          "base_uri": "https://localhost:8080/",
          "height": 202
        }
      },
      "source": [
        "gpzs_fundCode.head(5)"
      ],
      "execution_count": 0,
      "outputs": [
        {
          "output_type": "execute_result",
          "data": {
            "text/html": [
              "<div>\n",
              "<style scoped>\n",
              "    .dataframe tbody tr th:only-of-type {\n",
              "        vertical-align: middle;\n",
              "    }\n",
              "\n",
              "    .dataframe tbody tr th {\n",
              "        vertical-align: top;\n",
              "    }\n",
              "\n",
              "    .dataframe thead th {\n",
              "        text-align: right;\n",
              "    }\n",
              "</style>\n",
              "<table border=\"1\" class=\"dataframe\">\n",
              "  <thead>\n",
              "    <tr style=\"text-align: right;\">\n",
              "      <th></th>\n",
              "      <th>基金代码</th>\n",
              "      <th>基金名称</th>\n",
              "      <th>基金类型</th>\n",
              "    </tr>\n",
              "  </thead>\n",
              "  <tbody>\n",
              "    <tr>\n",
              "      <th>6</th>\n",
              "      <td>000008</td>\n",
              "      <td>嘉实中证500ETF联接A</td>\n",
              "      <td>联接基金</td>\n",
              "    </tr>\n",
              "    <tr>\n",
              "      <th>30</th>\n",
              "      <td>000042</td>\n",
              "      <td>中证财通可持续发展100指数A</td>\n",
              "      <td>股票指数</td>\n",
              "    </tr>\n",
              "    <tr>\n",
              "      <th>37</th>\n",
              "      <td>000049</td>\n",
              "      <td>中银标普全球资源等权重指数</td>\n",
              "      <td>QDII-指数</td>\n",
              "    </tr>\n",
              "    <tr>\n",
              "      <th>38</th>\n",
              "      <td>000051</td>\n",
              "      <td>华夏沪深300ETF联接A</td>\n",
              "      <td>联接基金</td>\n",
              "    </tr>\n",
              "    <tr>\n",
              "      <th>41</th>\n",
              "      <td>000055</td>\n",
              "      <td>广发纳斯达克100美元现汇A</td>\n",
              "      <td>QDII-指数</td>\n",
              "    </tr>\n",
              "  </tbody>\n",
              "</table>\n",
              "</div>"
            ],
            "text/plain": [
              "      基金代码             基金名称     基金类型\n",
              "6   000008    嘉实中证500ETF联接A     联接基金\n",
              "30  000042  中证财通可持续发展100指数A     股票指数\n",
              "37  000049    中银标普全球资源等权重指数  QDII-指数\n",
              "38  000051    华夏沪深300ETF联接A     联接基金\n",
              "41  000055   广发纳斯达克100美元现汇A  QDII-指数"
            ]
          },
          "metadata": {
            "tags": []
          },
          "execution_count": 6
        }
      ]
    },
    {
      "cell_type": "code",
      "metadata": {
        "id": "mRBTO8mVPB5u",
        "colab_type": "code",
        "colab": {}
      },
      "source": [
        "gpzs_fundCode.to_csv('/content/gdrive/My Drive/Quant/gpzs_fundCode.csv', encoding='utf_8_sig',index=False)"
      ],
      "execution_count": 0,
      "outputs": []
    },
    {
      "cell_type": "code",
      "metadata": {
        "id": "kRdF5pAYiC4d",
        "colab_type": "code",
        "colab": {}
      },
      "source": [
        "'''\n",
        "fundCode = '006743'\n",
        "jbgk_url = 'http://fundf10.eastmoney.com/jbgk_'+ fundCode + '.html'\n",
        "soup = BeautifulSoup(urllib.request.urlopen(jbgk_url))\n",
        "'''"
      ],
      "execution_count": 0,
      "outputs": []
    },
    {
      "cell_type": "code",
      "metadata": {
        "id": "al1UMNKke34w",
        "colab_type": "code",
        "colab": {}
      },
      "source": [
        "'''\n",
        "def parse_one_page(soup):\n",
        "    glf = soup.find('th',text=\"管理费率\")\n",
        "    glfl = glf.find_next_sibling('td').string\n",
        "    tgf = soup.find('th',text=\"托管费率\")\n",
        "    tgfl = tgf.find_next_sibling('td').string\n",
        "    xsf = soup.find('th',text=\"销售服务费率\")\n",
        "    xsfl = xsf.find_next_sibling('td').string\n",
        "    zcg = soup.find('th',text=\"资产规模\")\n",
        "    zcgm = zcg.find_next_sibling('td').string\n",
        "    gzb = soup.find('th',text=\"跟踪标的\")\n",
        "    gzbd = gzb.find_next_sibling('td').string\n",
        " '''"
      ],
      "execution_count": 0,
      "outputs": []
    },
    {
      "cell_type": "code",
      "metadata": {
        "id": "jfTgkpAvlV_5",
        "colab_type": "code",
        "colab": {}
      },
      "source": [
        "user_agent_list = [\n",
        "        'Mozilla/5.0 (Windows NT 6.1; WOW64) AppleWebKit/537.1 (KHTML, like Gecko) Chrome/21.0.1180.71 Safari/537.1 LBBROWSER',\n",
        "        'Mozilla/4.0 (compatible; MSIE 6.0; Windows NT 5.1; SV1; QQDownload 732; .NET4.0C; .NET4.0E)',\n",
        "        'Mozilla/5.0 (Windows NT 5.1) AppleWebKit/535.11 (KHTML, like Gecko) Chrome/17.0.963.84 Safari/535.11 SE 2.X MetaSr 1.0',\n",
        "        'Mozilla/5.0 (Windows NT 6.1; WOW64) AppleWebKit/537.36 (KHTML, like Gecko) Maxthon/4.4.3.4000 Chrome/30.0.1599.101 Safari/537.36',\n",
        "        'Mozilla/5.0 (Windows NT 6.1; WOW64) AppleWebKit/537.36 (KHTML, like Gecko) Chrome/38.0.2125.122 UBrowser/4.0.3214.0 Safari/537.36',]"
      ],
      "execution_count": 0,
      "outputs": []
    },
    {
      "cell_type": "code",
      "metadata": {
        "id": "IKUJrd8gfv-O",
        "colab_type": "code",
        "colab": {}
      },
      "source": [
        "#GPU,执行时长494秒\n",
        "DF = []\n",
        "for fundCode in gpzs_fundCode['基金代码']:\n",
        "    jbgk_url = 'http://fundf10.eastmoney.com/jbgk_'+ fundCode + '.html'\n",
        "    req = urllib.request.Request(jbgk_url,headers = {'User-Agent': random.choice(user_agent_list)})\n",
        "    response = urllib.request.urlopen(req)\n",
        "    soup = BeautifulSoup(response)\n",
        "    jjj = soup.find('th',text=\"基金简称\")\n",
        "    jjjc = jjj.find_next_sibling('td').string\n",
        "    fxr = soup.find('th',text=\"发行日期\")\n",
        "    fxrq = fxr.find_next_sibling('td').string\n",
        "    jjg = soup.find('th',text=\"基金管理人\")\n",
        "    jjgl = jjg.find_next_sibling('td').string\n",
        "    glf = soup.find('th',text=\"管理费率\")\n",
        "    glfl = glf.find_next_sibling('td').string\n",
        "    tgf = soup.find('th',text=\"托管费率\")\n",
        "    tgfl = tgf.find_next_sibling('td').string\n",
        "    xsf = soup.find('th',text=\"销售服务费率\")\n",
        "    xsfl = xsf.find_next_sibling('td').string\n",
        "    zcg = soup.find('th',text=\"资产规模\")\n",
        "    zcgm = zcg.find_next_sibling('td').string\n",
        "    gzb = soup.find('th',text=\"跟踪标的\")\n",
        "    gzbd = gzb.find_next_sibling('td').string\n",
        "    tsdata_url = 'http://fundf10.eastmoney.com/tsdata_'+ fundCode + '.html'\n",
        "    req = urllib.request.Request(tsdata_url,headers = {'User-Agent': random.choice(user_agent_list)})\n",
        "    response = urllib.request.urlopen(req)\n",
        "    soup = BeautifulSoup(response)\n",
        "    gzw = soup.find('th',text=\"跟踪误差\")\n",
        "    if hasattr(gzw,'parent'):\n",
        "        gzwc = gzw.parent.next_sibling.next_sibling.find_all('td')[1].string\n",
        "    else: gzwc = 'n/a'\n",
        "    DF.append([fundCode,jjjc,fxrq,jjgl,glfl,tgfl,xsfl,zcgm,gzbd,gzwc])\n",
        "#    time.sleep(random.randint(5, 10))"
      ],
      "execution_count": 0,
      "outputs": []
    },
    {
      "cell_type": "code",
      "metadata": {
        "id": "6brTWTAAQCBP",
        "colab_type": "code",
        "colab": {}
      },
      "source": [
        "    '''\n",
        "    tsdata_url = 'http://fundf10.eastmoney.com/tsdata_'+ '000950' + '.html'\n",
        "    req = urllib.request.Request(tsdata_url,headers = {'User-Agent': random.choice(user_agent_list)})\n",
        "    response = urllib.request.urlopen(req)\n",
        "    soup = BeautifulSoup(response)\n",
        "    gzw = soup.find('th',text=\"跟踪误差\")\n",
        "    gzwc = gz.parent.next_sibling.next_sibling.find_all('td')[1].string\n",
        "    \n",
        "    '''"
      ],
      "execution_count": 0,
      "outputs": []
    },
    {
      "cell_type": "code",
      "metadata": {
        "id": "1UMT5-YnixAi",
        "colab_type": "code",
        "outputId": "60c05f53-03c3-4765-efa5-efaee7d899eb",
        "colab": {
          "base_uri": "https://localhost:8080/",
          "height": 1169
        }
      },
      "source": [
        "data=pd.DataFrame(DF,columns=['基金代码',\"基金简称\",\"发行日期\",\"基金管理人\",'管理费','托管费','销售服务费','资产规模','跟踪标的',\"跟踪误差\"])\n",
        "print(data)\n",
        "data.to_csv('/content/gdrive/My Drive/Quant/gpzs_fundCode_r0.1.csv', encoding='utf_8_sig',index=False)"
      ],
      "execution_count": 0,
      "outputs": [
        {
          "output_type": "stream",
          "text": [
            "        基金代码             基金简称  ...                           跟踪标的   跟踪误差\n",
            "0     000008    嘉实中证500ETF联接A  ...                        中证500指数  0.10%\n",
            "1     000042  中证财通可持续发展100指数A  ...     中证财通中国可持续发展100(ECPI ESG)指数  0.27%\n",
            "2     000049    中银标普全球资源等权重指数  ...                标普全球精选自然资源等权重指数     --\n",
            "3     000051    华夏沪深300ETF联接A  ...                        沪深300指数  0.10%\n",
            "4     000055   广发纳斯达克100美元现汇A  ...                      纳斯达克100指数  0.24%\n",
            "5     000059      国联安中证医药100A  ...                      中证医药100指数  0.19%\n",
            "6     000071       华夏恒生ETF联接A  ...                         香港恒生指数  0.23%\n",
            "7     000075      华夏恒生ETF联接现汇  ...                         香港恒生指数  0.23%\n",
            "8     000076      华夏恒生ETF联接现钞  ...                         香港恒生指数  0.23%\n",
            "9     000087   嘉实中证金边国债ETF联接A  ...                     中证金边中期国债指数  0.08%\n",
            "10    000088   嘉实中证金边国债ETF联接C  ...                     中证金边中期国债指数  0.08%\n",
            "11    000154      富国沪深300指数增强  ...                        沪深300指数    n/a\n",
            "12    000164         富国上证综指联接  ...                         上证综合指数    n/a\n",
            "13    000176    嘉实沪深300指数研究增强  ...                        沪深300指数  0.19%\n",
            "14    000179        广发美国房地产指数  ...                       该基金无跟踪标的     --\n",
            "15    000180      广发美国房地产指数现汇  ...                       该基金无跟踪标的     --\n",
            "16    000216      华安黄金易ETF联接A  ...                       该基金无跟踪标的  0.03%\n",
            "17    000217      华安黄金易ETF联接C  ...                       该基金无跟踪标的  0.03%\n",
            "18    000218       国泰黄金ETF联接A  ...                       该基金无跟踪标的  0.03%\n",
            "19    000248   汇添富中证主要消费ETF联接  ...                       中证主要消费指数  0.14%\n",
            "20    000307      易方达黄金ETF联接A  ...                       该基金无跟踪标的  0.03%\n",
            "21    000311      景顺长城沪深300增强  ...                        沪深300指数  0.23%\n",
            "22    000312       华安沪深300增强A  ...                        沪深300指数  0.20%\n",
            "23    000313       华安沪深300增强C  ...                        沪深300指数  0.20%\n",
            "24    000368     汇添富沪深300安中指数  ...                  沪深300安中动态策略指数  0.11%\n",
            "25    000369   广发全球医疗保健(QDII)  ...  S&P GLOBAL 1200 - Health Care     --\n",
            "26    000370       广发全球医疗保健美元  ...  S&P GLOBAL 1200 - Health Care     --\n",
            "27    000373   华安中证细分医药ETF联接A  ...                           细分医药  0.15%\n",
            "28    000376   华安中证细分医药ETF联接C  ...                           细分医药  0.15%\n",
            "29    000478     建信中证500指数增强A  ...                        中证500指数  0.20%\n",
            "...      ...              ...  ...                            ...    ...\n",
            "1102  519027     海富通上证周期ETF联接  ...                           上证周期  0.18%\n",
            "1103  519032    海富通上证非周期ETF联接  ...                            非周期  0.16%\n",
            "1104  519034      海富通中证内地低碳指数  ...                   中证内地低碳经济主题指数  0.13%\n",
            "1105  519100          长盛中证100  ...                        中证100指数  0.10%\n",
            "1106  519116        浦银沪深300增强  ...                        沪深300指数  0.19%\n",
            "1107  519117     浦银安盛基本面400指数  ...                   中证锐联基本面400指数  0.16%\n",
            "1108  519180          万家180指数  ...                         上证成份指数  0.09%\n",
            "1109  519300       大成沪深300指数A  ...                        沪深300指数  0.15%\n",
            "1110  519301       大成沪深300指数A  ...                        沪深300指数    n/a\n",
            "1111  519671        银河沪深300价值  ...                      沪深300价值指数  0.12%\n",
            "1112  519677      银河定投宝腾讯济安指数  ...                       该基金无跟踪标的  0.13%\n",
            "1113  519686        交银180治理联接  ...                    上证180公司治理指数  0.11%\n",
            "1114  519687        交银180治理联接  ...                    上证180公司治理指数    n/a\n",
            "1115  519706        交银深证300联接  ...                      深证300价值指数  0.15%\n",
            "1116  519707        交银深证300联接  ...                      深证300价值指数    n/a\n",
            "1117  519931          长信港股通指数  ...                        上证港股通指数  0.29%\n",
            "1118  519981        长信美国标普100  ...                   标准普尔100等权重指数     --\n",
            "1119  530010           建信责任联接  ...                           责任指数  0.11%\n",
            "1120  530015  建信深证基本面60ETF联接A  ...                      深证基本面60指数  0.11%\n",
            "1121  530018        建信深证100增强  ...                    深证100指数(价格)  0.20%\n",
            "1122  540012      汇丰晋信恒生龙头指数A  ...                     恒生A股行业龙头指数  0.10%\n",
            "1123  585001         东吴中证新兴指数  ...                       中证新兴产业指数  0.12%\n",
            "1124  590007      中邮上证380指数增强  ...                          上证380  0.25%\n",
            "1125  660008       农银沪深300指数A  ...                        沪深300指数  0.09%\n",
            "1126  660011          农银中证500  ...                        中证500指数  0.10%\n",
            "1127  673100   西部利得沪深300指数增强A  ...                        沪深300指数  0.21%\n",
            "1128  673101   西部利得沪深300指数增强C  ...                        沪深300指数  0.21%\n",
            "1129  690008     民生中证内地资源主题指数  ...                     中证内地资源主题指数  0.14%\n",
            "1130  700002      平安深证300指数增强  ...                        深证300价格  0.26%\n",
            "1131  740101       长安沪深300非周期  ...                   沪深300非周期行业指数  0.13%\n",
            "\n",
            "[1132 rows x 10 columns]\n"
          ],
          "name": "stdout"
        }
      ]
    },
    {
      "cell_type": "code",
      "metadata": {
        "id": "ATJcI-nQ3Z5u",
        "colab_type": "code",
        "colab": {}
      },
      "source": [
        ""
      ],
      "execution_count": 0,
      "outputs": []
    }
  ]
}